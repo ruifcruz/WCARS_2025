{
  "nbformat": 4,
  "nbformat_minor": 0,
  "metadata": {
    "colab": {
      "provenance": []
    },
    "kernelspec": {
      "name": "python3",
      "display_name": "Python 3"
    },
    "language_info": {
      "name": "python"
    }
  },
  "cells": [
    {
      "cell_type": "markdown",
      "source": [
        "[![Open in Colab](https://colab.research.google.com/assets/colab-badge.svg)](https://colab.research.google.com/github/ruifcruz/WCARS_2025/blob/main/3.Chat_with_an_Excel_file/3_Chat_with_an_Excel_file.ipynb)\n"
      ],
      "metadata": {
        "id": "0bT9qWl2Kbui"
      }
    },
    {
      "cell_type": "markdown",
      "source": [
        "# Generative AI applications with python\n",
        "@Francisco Cruz - francisco.cruz@iscte-iul.pt"
      ],
      "metadata": {
        "id": "2kefw7ilOawl"
      }
    },
    {
      "cell_type": "markdown",
      "source": [
        "# App 3 - Chat with an Excel file"
      ],
      "metadata": {
        "id": "H-Aupg2LOsRq"
      }
    },
    {
      "cell_type": "markdown",
      "source": [
        "The objective of the code in this notebook is to communicate with the data of an Excel file. This is achieved by converting the data into a SQL table and then having an LLM building a query to gathre information from that table."
      ],
      "metadata": {
        "id": "rFnUqYgVWHWT"
      }
    },
    {
      "cell_type": "markdown",
      "source": [
        "**Note**: There are several alternatives to OpenAI which provide LLM models with similar quality (Claude, Mistral, Gemini, Deepseek, HuggingFace, etc)"
      ],
      "metadata": {
        "id": "EqufRjU2xyg-"
      }
    },
    {
      "cell_type": "markdown",
      "source": [
        "# 0. Preparation steps"
      ],
      "metadata": {
        "id": "A0QT9XSVO1uP"
      }
    },
    {
      "cell_type": "code",
      "source": [
        "# Download and install openai package on the computer\n",
        "%%capture\n",
        "!pip install langgraph==0.4.1 langchain-community==0.3.23 langchain-openai==0.3.16"
      ],
      "metadata": {
        "id": "Mih_rJ6A-NPs"
      },
      "execution_count": 1,
      "outputs": []
    },
    {
      "cell_type": "code",
      "source": [
        "# We need to instruct the computer to access the packages that will be needed along the notebook\n",
        "# pandas package is needed to store data on a table\n",
        "import pandas as pd\n",
        "import os\n",
        "# google.colab package is needed to access client secrets (explained on the next cells) and download output files\n",
        "from google.colab import userdata, files\n",
        "# IPython and json packages are needed to print easier to read outputs\n",
        "from IPython.display import Image, display, Markdown\n",
        "# sqlite3 is needed to create a SQL database\n",
        "import sqlite3\n",
        "# langchain and langgraph packages are needed to build the agent\n",
        "from langchain.utilities import SQLDatabase\n",
        "from langchain.chat_models import init_chat_model\n",
        "from langchain_community.agent_toolkits import SQLDatabaseToolkit\n",
        "from langgraph.prebuilt import create_react_agent"
      ],
      "metadata": {
        "id": "L1k3XHHdBveF"
      },
      "execution_count": 2,
      "outputs": []
    },
    {
      "cell_type": "code",
      "source": [
        "# Creating a function that will be useful ahead\n",
        "def print_text(text):\n",
        "  display(Markdown(text))"
      ],
      "metadata": {
        "id": "w09I10jACFMz"
      },
      "execution_count": 3,
      "outputs": []
    },
    {
      "cell_type": "markdown",
      "source": [
        "To access OpenAI's services, you need to have a password (api key).\n",
        "\n",
        "To obtain one, you must create an account at https://platform.openai.com/, go to 'API keys' and create a key. You will need to have a payment method associated with your account.\n",
        "\n",
        "The key can be placed directly in the code, but that is not considered secure. Therefore, in Colab you can use the 'Secrets' tab (on the left), where you can add a line with:\n",
        "- 'Name' equal to OPENAI_API_KEY\n",
        "- 'Value' equal to the key\""
      ],
      "metadata": {
        "id": "csP2jf2s9j2x"
      }
    },
    {
      "cell_type": "code",
      "source": [
        "# The computer will read and store the key that was pasted on the tab \"Secrets\"\n",
        "os.environ[\"OPENAI_API_KEY\"] = userdata.get('OPENAI_API_KEY')"
      ],
      "metadata": {
        "id": "DRGHCmz1_WMa"
      },
      "execution_count": 4,
      "outputs": []
    },
    {
      "cell_type": "markdown",
      "source": [
        "# 1. Read the excel file and convert it to a SQL table"
      ],
      "metadata": {
        "id": "XHz284Obk3cq"
      }
    },
    {
      "cell_type": "markdown",
      "source": [
        "![image.png](data:image/png;base64,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)"
      ],
      "metadata": {
        "id": "xaUjM2gYkyAT"
      }
    },
    {
      "cell_type": "code",
      "source": [
        "# Read a balance sheet which is stored online\n",
        "df = pd.read_excel(\"https://raw.githubusercontent.com/ruifcruz/WCARS_2025/main/3.Chat_with_an_Excel_file/source_data/balance_sheet.xlsx\", header=0)\n",
        "df"
      ],
      "metadata": {
        "colab": {
          "base_uri": "https://localhost:8080/",
          "height": 424
        },
        "id": "hbLIf2Yhz2MX",
        "outputId": "0df78ee0-a079-4658-d59e-76b8c1f677f1"
      },
      "execution_count": 6,
      "outputs": [
        {
          "output_type": "execute_result",
          "data": {
            "text/plain": [
              "     Account            Description   Month_Debit  Month_Credit         Debit  \\\n",
              "0        111               Bank 222      0.000000           0.0  6.367454e+04   \n",
              "1       1201               Bank 402      0.000000           0.0  9.769665e+06   \n",
              "2       1202               Bank 404      0.000000           0.0  5.362396e+05   \n",
              "3       1204               Bank 408      0.000000           0.0  3.110519e+06   \n",
              "4       1205               Bank 410      0.000000           0.0  2.604813e+06   \n",
              "..       ...                    ...           ...           ...           ...   \n",
              "698     7886  Internal Expense 2658      0.000000           0.0  0.000000e+00   \n",
              "699   788899  Internal Expense 2697      0.000000           0.0  0.000000e+00   \n",
              "700     8121   Internal Expense 363  11210.970982           0.0  1.121097e+04   \n",
              "701     8122   Internal Expense 366  45876.085395           0.0  4.587609e+04   \n",
              "702      818  Internal Expense 2454      0.000000           0.0  4.778297e+03   \n",
              "\n",
              "           Credit        Debtor     Creditor           Net  \n",
              "0    5.985724e+04   3817.302609     0.000000   3817.302609  \n",
              "1    9.756055e+06  13610.112828     0.000000  13610.112828  \n",
              "2    5.277678e+05   8471.816683     0.000000   8471.816683  \n",
              "3    3.086866e+06  23653.023038     0.000000  23653.023038  \n",
              "4    2.597723e+06   7090.250235     0.000000   7090.250235  \n",
              "..            ...           ...          ...           ...  \n",
              "698  4.384908e+03      0.000000  4384.907800  -4384.907800  \n",
              "699  7.638174e+03      0.000000  7638.174328  -7638.174328  \n",
              "700  0.000000e+00  11210.970982     0.000000  11210.970982  \n",
              "701  0.000000e+00  45876.085395     0.000000  45876.085395  \n",
              "702  4.778297e+03      0.000000     0.000000      0.000000  \n",
              "\n",
              "[703 rows x 9 columns]"
            ],
            "text/html": [
              "\n",
              "  <div id=\"df-d74de031-a52f-4fda-acf9-709316b959ca\" class=\"colab-df-container\">\n",
              "    <div>\n",
              "<style scoped>\n",
              "    .dataframe tbody tr th:only-of-type {\n",
              "        vertical-align: middle;\n",
              "    }\n",
              "\n",
              "    .dataframe tbody tr th {\n",
              "        vertical-align: top;\n",
              "    }\n",
              "\n",
              "    .dataframe thead th {\n",
              "        text-align: right;\n",
              "    }\n",
              "</style>\n",
              "<table border=\"1\" class=\"dataframe\">\n",
              "  <thead>\n",
              "    <tr style=\"text-align: right;\">\n",
              "      <th></th>\n",
              "      <th>Account</th>\n",
              "      <th>Description</th>\n",
              "      <th>Month_Debit</th>\n",
              "      <th>Month_Credit</th>\n",
              "      <th>Debit</th>\n",
              "      <th>Credit</th>\n",
              "      <th>Debtor</th>\n",
              "      <th>Creditor</th>\n",
              "      <th>Net</th>\n",
              "    </tr>\n",
              "  </thead>\n",
              "  <tbody>\n",
              "    <tr>\n",
              "      <th>0</th>\n",
              "      <td>111</td>\n",
              "      <td>Bank 222</td>\n",
              "      <td>0.000000</td>\n",
              "      <td>0.0</td>\n",
              "      <td>6.367454e+04</td>\n",
              "      <td>5.985724e+04</td>\n",
              "      <td>3817.302609</td>\n",
              "      <td>0.000000</td>\n",
              "      <td>3817.302609</td>\n",
              "    </tr>\n",
              "    <tr>\n",
              "      <th>1</th>\n",
              "      <td>1201</td>\n",
              "      <td>Bank 402</td>\n",
              "      <td>0.000000</td>\n",
              "      <td>0.0</td>\n",
              "      <td>9.769665e+06</td>\n",
              "      <td>9.756055e+06</td>\n",
              "      <td>13610.112828</td>\n",
              "      <td>0.000000</td>\n",
              "      <td>13610.112828</td>\n",
              "    </tr>\n",
              "    <tr>\n",
              "      <th>2</th>\n",
              "      <td>1202</td>\n",
              "      <td>Bank 404</td>\n",
              "      <td>0.000000</td>\n",
              "      <td>0.0</td>\n",
              "      <td>5.362396e+05</td>\n",
              "      <td>5.277678e+05</td>\n",
              "      <td>8471.816683</td>\n",
              "      <td>0.000000</td>\n",
              "      <td>8471.816683</td>\n",
              "    </tr>\n",
              "    <tr>\n",
              "      <th>3</th>\n",
              "      <td>1204</td>\n",
              "      <td>Bank 408</td>\n",
              "      <td>0.000000</td>\n",
              "      <td>0.0</td>\n",
              "      <td>3.110519e+06</td>\n",
              "      <td>3.086866e+06</td>\n",
              "      <td>23653.023038</td>\n",
              "      <td>0.000000</td>\n",
              "      <td>23653.023038</td>\n",
              "    </tr>\n",
              "    <tr>\n",
              "      <th>4</th>\n",
              "      <td>1205</td>\n",
              "      <td>Bank 410</td>\n",
              "      <td>0.000000</td>\n",
              "      <td>0.0</td>\n",
              "      <td>2.604813e+06</td>\n",
              "      <td>2.597723e+06</td>\n",
              "      <td>7090.250235</td>\n",
              "      <td>0.000000</td>\n",
              "      <td>7090.250235</td>\n",
              "    </tr>\n",
              "    <tr>\n",
              "      <th>...</th>\n",
              "      <td>...</td>\n",
              "      <td>...</td>\n",
              "      <td>...</td>\n",
              "      <td>...</td>\n",
              "      <td>...</td>\n",
              "      <td>...</td>\n",
              "      <td>...</td>\n",
              "      <td>...</td>\n",
              "      <td>...</td>\n",
              "    </tr>\n",
              "    <tr>\n",
              "      <th>698</th>\n",
              "      <td>7886</td>\n",
              "      <td>Internal Expense 2658</td>\n",
              "      <td>0.000000</td>\n",
              "      <td>0.0</td>\n",
              "      <td>0.000000e+00</td>\n",
              "      <td>4.384908e+03</td>\n",
              "      <td>0.000000</td>\n",
              "      <td>4384.907800</td>\n",
              "      <td>-4384.907800</td>\n",
              "    </tr>\n",
              "    <tr>\n",
              "      <th>699</th>\n",
              "      <td>788899</td>\n",
              "      <td>Internal Expense 2697</td>\n",
              "      <td>0.000000</td>\n",
              "      <td>0.0</td>\n",
              "      <td>0.000000e+00</td>\n",
              "      <td>7.638174e+03</td>\n",
              "      <td>0.000000</td>\n",
              "      <td>7638.174328</td>\n",
              "      <td>-7638.174328</td>\n",
              "    </tr>\n",
              "    <tr>\n",
              "      <th>700</th>\n",
              "      <td>8121</td>\n",
              "      <td>Internal Expense 363</td>\n",
              "      <td>11210.970982</td>\n",
              "      <td>0.0</td>\n",
              "      <td>1.121097e+04</td>\n",
              "      <td>0.000000e+00</td>\n",
              "      <td>11210.970982</td>\n",
              "      <td>0.000000</td>\n",
              "      <td>11210.970982</td>\n",
              "    </tr>\n",
              "    <tr>\n",
              "      <th>701</th>\n",
              "      <td>8122</td>\n",
              "      <td>Internal Expense 366</td>\n",
              "      <td>45876.085395</td>\n",
              "      <td>0.0</td>\n",
              "      <td>4.587609e+04</td>\n",
              "      <td>0.000000e+00</td>\n",
              "      <td>45876.085395</td>\n",
              "      <td>0.000000</td>\n",
              "      <td>45876.085395</td>\n",
              "    </tr>\n",
              "    <tr>\n",
              "      <th>702</th>\n",
              "      <td>818</td>\n",
              "      <td>Internal Expense 2454</td>\n",
              "      <td>0.000000</td>\n",
              "      <td>0.0</td>\n",
              "      <td>4.778297e+03</td>\n",
              "      <td>4.778297e+03</td>\n",
              "      <td>0.000000</td>\n",
              "      <td>0.000000</td>\n",
              "      <td>0.000000</td>\n",
              "    </tr>\n",
              "  </tbody>\n",
              "</table>\n",
              "<p>703 rows × 9 columns</p>\n",
              "</div>\n",
              "    <div class=\"colab-df-buttons\">\n",
              "\n",
              "  <div class=\"colab-df-container\">\n",
              "    <button class=\"colab-df-convert\" onclick=\"convertToInteractive('df-d74de031-a52f-4fda-acf9-709316b959ca')\"\n",
              "            title=\"Convert this dataframe to an interactive table.\"\n",
              "            style=\"display:none;\">\n",
              "\n",
              "  <svg xmlns=\"http://www.w3.org/2000/svg\" height=\"24px\" viewBox=\"0 -960 960 960\">\n",
              "    <path d=\"M120-120v-720h720v720H120Zm60-500h600v-160H180v160Zm220 220h160v-160H400v160Zm0 220h160v-160H400v160ZM180-400h160v-160H180v160Zm440 0h160v-160H620v160ZM180-180h160v-160H180v160Zm440 0h160v-160H620v160Z\"/>\n",
              "  </svg>\n",
              "    </button>\n",
              "\n",
              "  <style>\n",
              "    .colab-df-container {\n",
              "      display:flex;\n",
              "      gap: 12px;\n",
              "    }\n",
              "\n",
              "    .colab-df-convert {\n",
              "      background-color: #E8F0FE;\n",
              "      border: none;\n",
              "      border-radius: 50%;\n",
              "      cursor: pointer;\n",
              "      display: none;\n",
              "      fill: #1967D2;\n",
              "      height: 32px;\n",
              "      padding: 0 0 0 0;\n",
              "      width: 32px;\n",
              "    }\n",
              "\n",
              "    .colab-df-convert:hover {\n",
              "      background-color: #E2EBFA;\n",
              "      box-shadow: 0px 1px 2px rgba(60, 64, 67, 0.3), 0px 1px 3px 1px rgba(60, 64, 67, 0.15);\n",
              "      fill: #174EA6;\n",
              "    }\n",
              "\n",
              "    .colab-df-buttons div {\n",
              "      margin-bottom: 4px;\n",
              "    }\n",
              "\n",
              "    [theme=dark] .colab-df-convert {\n",
              "      background-color: #3B4455;\n",
              "      fill: #D2E3FC;\n",
              "    }\n",
              "\n",
              "    [theme=dark] .colab-df-convert:hover {\n",
              "      background-color: #434B5C;\n",
              "      box-shadow: 0px 1px 3px 1px rgba(0, 0, 0, 0.15);\n",
              "      filter: drop-shadow(0px 1px 2px rgba(0, 0, 0, 0.3));\n",
              "      fill: #FFFFFF;\n",
              "    }\n",
              "  </style>\n",
              "\n",
              "    <script>\n",
              "      const buttonEl =\n",
              "        document.querySelector('#df-d74de031-a52f-4fda-acf9-709316b959ca button.colab-df-convert');\n",
              "      buttonEl.style.display =\n",
              "        google.colab.kernel.accessAllowed ? 'block' : 'none';\n",
              "\n",
              "      async function convertToInteractive(key) {\n",
              "        const element = document.querySelector('#df-d74de031-a52f-4fda-acf9-709316b959ca');\n",
              "        const dataTable =\n",
              "          await google.colab.kernel.invokeFunction('convertToInteractive',\n",
              "                                                    [key], {});\n",
              "        if (!dataTable) return;\n",
              "\n",
              "        const docLinkHtml = 'Like what you see? Visit the ' +\n",
              "          '<a target=\"_blank\" href=https://colab.research.google.com/notebooks/data_table.ipynb>data table notebook</a>'\n",
              "          + ' to learn more about interactive tables.';\n",
              "        element.innerHTML = '';\n",
              "        dataTable['output_type'] = 'display_data';\n",
              "        await google.colab.output.renderOutput(dataTable, element);\n",
              "        const docLink = document.createElement('div');\n",
              "        docLink.innerHTML = docLinkHtml;\n",
              "        element.appendChild(docLink);\n",
              "      }\n",
              "    </script>\n",
              "  </div>\n",
              "\n",
              "\n",
              "    <div id=\"df-b4ebb540-8e91-4758-a606-28793808f14b\">\n",
              "      <button class=\"colab-df-quickchart\" onclick=\"quickchart('df-b4ebb540-8e91-4758-a606-28793808f14b')\"\n",
              "                title=\"Suggest charts\"\n",
              "                style=\"display:none;\">\n",
              "\n",
              "<svg xmlns=\"http://www.w3.org/2000/svg\" height=\"24px\"viewBox=\"0 0 24 24\"\n",
              "     width=\"24px\">\n",
              "    <g>\n",
              "        <path d=\"M19 3H5c-1.1 0-2 .9-2 2v14c0 1.1.9 2 2 2h14c1.1 0 2-.9 2-2V5c0-1.1-.9-2-2-2zM9 17H7v-7h2v7zm4 0h-2V7h2v10zm4 0h-2v-4h2v4z\"/>\n",
              "    </g>\n",
              "</svg>\n",
              "      </button>\n",
              "\n",
              "<style>\n",
              "  .colab-df-quickchart {\n",
              "      --bg-color: #E8F0FE;\n",
              "      --fill-color: #1967D2;\n",
              "      --hover-bg-color: #E2EBFA;\n",
              "      --hover-fill-color: #174EA6;\n",
              "      --disabled-fill-color: #AAA;\n",
              "      --disabled-bg-color: #DDD;\n",
              "  }\n",
              "\n",
              "  [theme=dark] .colab-df-quickchart {\n",
              "      --bg-color: #3B4455;\n",
              "      --fill-color: #D2E3FC;\n",
              "      --hover-bg-color: #434B5C;\n",
              "      --hover-fill-color: #FFFFFF;\n",
              "      --disabled-bg-color: #3B4455;\n",
              "      --disabled-fill-color: #666;\n",
              "  }\n",
              "\n",
              "  .colab-df-quickchart {\n",
              "    background-color: var(--bg-color);\n",
              "    border: none;\n",
              "    border-radius: 50%;\n",
              "    cursor: pointer;\n",
              "    display: none;\n",
              "    fill: var(--fill-color);\n",
              "    height: 32px;\n",
              "    padding: 0;\n",
              "    width: 32px;\n",
              "  }\n",
              "\n",
              "  .colab-df-quickchart:hover {\n",
              "    background-color: var(--hover-bg-color);\n",
              "    box-shadow: 0 1px 2px rgba(60, 64, 67, 0.3), 0 1px 3px 1px rgba(60, 64, 67, 0.15);\n",
              "    fill: var(--button-hover-fill-color);\n",
              "  }\n",
              "\n",
              "  .colab-df-quickchart-complete:disabled,\n",
              "  .colab-df-quickchart-complete:disabled:hover {\n",
              "    background-color: var(--disabled-bg-color);\n",
              "    fill: var(--disabled-fill-color);\n",
              "    box-shadow: none;\n",
              "  }\n",
              "\n",
              "  .colab-df-spinner {\n",
              "    border: 2px solid var(--fill-color);\n",
              "    border-color: transparent;\n",
              "    border-bottom-color: var(--fill-color);\n",
              "    animation:\n",
              "      spin 1s steps(1) infinite;\n",
              "  }\n",
              "\n",
              "  @keyframes spin {\n",
              "    0% {\n",
              "      border-color: transparent;\n",
              "      border-bottom-color: var(--fill-color);\n",
              "      border-left-color: var(--fill-color);\n",
              "    }\n",
              "    20% {\n",
              "      border-color: transparent;\n",
              "      border-left-color: var(--fill-color);\n",
              "      border-top-color: var(--fill-color);\n",
              "    }\n",
              "    30% {\n",
              "      border-color: transparent;\n",
              "      border-left-color: var(--fill-color);\n",
              "      border-top-color: var(--fill-color);\n",
              "      border-right-color: var(--fill-color);\n",
              "    }\n",
              "    40% {\n",
              "      border-color: transparent;\n",
              "      border-right-color: var(--fill-color);\n",
              "      border-top-color: var(--fill-color);\n",
              "    }\n",
              "    60% {\n",
              "      border-color: transparent;\n",
              "      border-right-color: var(--fill-color);\n",
              "    }\n",
              "    80% {\n",
              "      border-color: transparent;\n",
              "      border-right-color: var(--fill-color);\n",
              "      border-bottom-color: var(--fill-color);\n",
              "    }\n",
              "    90% {\n",
              "      border-color: transparent;\n",
              "      border-bottom-color: var(--fill-color);\n",
              "    }\n",
              "  }\n",
              "</style>\n",
              "\n",
              "      <script>\n",
              "        async function quickchart(key) {\n",
              "          const quickchartButtonEl =\n",
              "            document.querySelector('#' + key + ' button');\n",
              "          quickchartButtonEl.disabled = true;  // To prevent multiple clicks.\n",
              "          quickchartButtonEl.classList.add('colab-df-spinner');\n",
              "          try {\n",
              "            const charts = await google.colab.kernel.invokeFunction(\n",
              "                'suggestCharts', [key], {});\n",
              "          } catch (error) {\n",
              "            console.error('Error during call to suggestCharts:', error);\n",
              "          }\n",
              "          quickchartButtonEl.classList.remove('colab-df-spinner');\n",
              "          quickchartButtonEl.classList.add('colab-df-quickchart-complete');\n",
              "        }\n",
              "        (() => {\n",
              "          let quickchartButtonEl =\n",
              "            document.querySelector('#df-b4ebb540-8e91-4758-a606-28793808f14b button');\n",
              "          quickchartButtonEl.style.display =\n",
              "            google.colab.kernel.accessAllowed ? 'block' : 'none';\n",
              "        })();\n",
              "      </script>\n",
              "    </div>\n",
              "\n",
              "  <div id=\"id_ccb51c4b-02b8-4ddf-950b-5e25870a6972\">\n",
              "    <style>\n",
              "      .colab-df-generate {\n",
              "        background-color: #E8F0FE;\n",
              "        border: none;\n",
              "        border-radius: 50%;\n",
              "        cursor: pointer;\n",
              "        display: none;\n",
              "        fill: #1967D2;\n",
              "        height: 32px;\n",
              "        padding: 0 0 0 0;\n",
              "        width: 32px;\n",
              "      }\n",
              "\n",
              "      .colab-df-generate:hover {\n",
              "        background-color: #E2EBFA;\n",
              "        box-shadow: 0px 1px 2px rgba(60, 64, 67, 0.3), 0px 1px 3px 1px rgba(60, 64, 67, 0.15);\n",
              "        fill: #174EA6;\n",
              "      }\n",
              "\n",
              "      [theme=dark] .colab-df-generate {\n",
              "        background-color: #3B4455;\n",
              "        fill: #D2E3FC;\n",
              "      }\n",
              "\n",
              "      [theme=dark] .colab-df-generate:hover {\n",
              "        background-color: #434B5C;\n",
              "        box-shadow: 0px 1px 3px 1px rgba(0, 0, 0, 0.15);\n",
              "        filter: drop-shadow(0px 1px 2px rgba(0, 0, 0, 0.3));\n",
              "        fill: #FFFFFF;\n",
              "      }\n",
              "    </style>\n",
              "    <button class=\"colab-df-generate\" onclick=\"generateWithVariable('df')\"\n",
              "            title=\"Generate code using this dataframe.\"\n",
              "            style=\"display:none;\">\n",
              "\n",
              "  <svg xmlns=\"http://www.w3.org/2000/svg\" height=\"24px\"viewBox=\"0 0 24 24\"\n",
              "       width=\"24px\">\n",
              "    <path d=\"M7,19H8.4L18.45,9,17,7.55,7,17.6ZM5,21V16.75L18.45,3.32a2,2,0,0,1,2.83,0l1.4,1.43a1.91,1.91,0,0,1,.58,1.4,1.91,1.91,0,0,1-.58,1.4L9.25,21ZM18.45,9,17,7.55Zm-12,3A5.31,5.31,0,0,0,4.9,8.1,5.31,5.31,0,0,0,1,6.5,5.31,5.31,0,0,0,4.9,4.9,5.31,5.31,0,0,0,6.5,1,5.31,5.31,0,0,0,8.1,4.9,5.31,5.31,0,0,0,12,6.5,5.46,5.46,0,0,0,6.5,12Z\"/>\n",
              "  </svg>\n",
              "    </button>\n",
              "    <script>\n",
              "      (() => {\n",
              "      const buttonEl =\n",
              "        document.querySelector('#id_ccb51c4b-02b8-4ddf-950b-5e25870a6972 button.colab-df-generate');\n",
              "      buttonEl.style.display =\n",
              "        google.colab.kernel.accessAllowed ? 'block' : 'none';\n",
              "\n",
              "      buttonEl.onclick = () => {\n",
              "        google.colab.notebook.generateWithVariable('df');\n",
              "      }\n",
              "      })();\n",
              "    </script>\n",
              "  </div>\n",
              "\n",
              "    </div>\n",
              "  </div>\n"
            ],
            "application/vnd.google.colaboratory.intrinsic+json": {
              "type": "dataframe",
              "variable_name": "df",
              "summary": "{\n  \"name\": \"df\",\n  \"rows\": 703,\n  \"fields\": [\n    {\n      \"column\": \"Account\",\n      \"properties\": {\n        \"dtype\": \"number\",\n        \"std\": 905736086,\n        \"min\": 111,\n        \"max\": 2216110029,\n        \"num_unique_values\": 703,\n        \"samples\": [\n          62651,\n          2211220689,\n          2211120184\n        ],\n        \"semantic_type\": \"\",\n        \"description\": \"\"\n      }\n    },\n    {\n      \"column\": \"Description\",\n      \"properties\": {\n        \"dtype\": \"string\",\n        \"num_unique_values\": 470,\n        \"samples\": [\n          \"Supplier 558\",\n          \"Supplier 1248\",\n          \"Supplier 48\"\n        ],\n        \"semantic_type\": \"\",\n        \"description\": \"\"\n      }\n    },\n    {\n      \"column\": \"Month_Debit\",\n      \"properties\": {\n        \"dtype\": \"number\",\n        \"std\": 328506.46715559356,\n        \"min\": 0.0,\n        \"max\": 8709606.3290236,\n        \"num_unique_values\": 43,\n        \"samples\": [\n          1923.7508289999998,\n          169.74400559999998,\n          2261.9568738\n        ],\n        \"semantic_type\": \"\",\n        \"description\": \"\"\n      }\n    },\n    {\n      \"column\": \"Month_Credit\",\n      \"properties\": {\n        \"dtype\": \"number\",\n        \"std\": 75461.12304116973,\n        \"min\": 0.0,\n        \"max\": 1153546.726982,\n        \"num_unique_values\": 116,\n        \"samples\": [\n          13842.7460262,\n          709950.224438,\n          33160.6248688\n        ],\n        \"semantic_type\": \"\",\n        \"description\": \"\"\n      }\n    },\n    {\n      \"column\": \"Debit\",\n      \"properties\": {\n        \"dtype\": \"number\",\n        \"std\": 725292.3927958318,\n        \"min\": 0.0,\n        \"max\": 11706874.9327478,\n        \"num_unique_values\": 607,\n        \"samples\": [\n          36084.950473000004,\n          69.8088976,\n          12098.048026999999\n        ],\n        \"semantic_type\": \"\",\n        \"description\": \"\"\n      }\n    },\n    {\n      \"column\": \"Credit\",\n      \"properties\": {\n        \"dtype\": \"number\",\n        \"std\": 736160.8283524578,\n        \"min\": 0.0,\n        \"max\": 11706874.9327478,\n        \"num_unique_values\": 582,\n        \"samples\": [\n          1373.3502094,\n          3876.4041732,\n          70.4207452\n        ],\n        \"semantic_type\": \"\",\n        \"description\": \"\"\n      }\n    },\n    {\n      \"column\": \"Debtor\",\n      \"properties\": {\n        \"dtype\": \"number\",\n        \"std\": 29985.152869336376,\n        \"min\": 0.0,\n        \"max\": 514041.3720207999,\n        \"num_unique_values\": 207,\n        \"samples\": [\n          3053.2214986,\n          179.1839399999999,\n          21727.4075304\n        ],\n        \"semantic_type\": \"\",\n        \"description\": \"\"\n      }\n    },\n    {\n      \"column\": \"Creditor\",\n      \"properties\": {\n        \"dtype\": \"number\",\n        \"std\": 97072.47681538419,\n        \"min\": 0.0,\n        \"max\": 1281774.5275062001,\n        \"num_unique_values\": 247,\n        \"samples\": [\n          69.67778740000017,\n          33.97210960000007,\n          3614.7810529999997\n        ],\n        \"semantic_type\": \"\",\n        \"description\": \"\"\n      }\n    },\n    {\n      \"column\": \"Net\",\n      \"properties\": {\n        \"dtype\": \"number\",\n        \"std\": 102712.0098840951,\n        \"min\": -1281774.5275062001,\n        \"max\": 514041.3720207999,\n        \"num_unique_values\": 453,\n        \"samples\": [\n          -46738.7759436,\n          -1703.7770490000012,\n          -170043.11166959998\n        ],\n        \"semantic_type\": \"\",\n        \"description\": \"\"\n      }\n    }\n  ]\n}"
            }
          },
          "metadata": {},
          "execution_count": 6
        }
      ]
    },
    {
      "cell_type": "code",
      "source": [
        "# Create a SQLite database and connect to it\n",
        "conn = sqlite3.connect('imported_data.db')\n",
        "\n",
        "# Write the DataFrame to a SQLite table\n",
        "df.to_sql('balance_sheet', conn, if_exists='replace', index=False)\n",
        "\n",
        "# Close the connection\n",
        "conn.close()"
      ],
      "metadata": {
        "id": "NcQyb_CWz1yQ"
      },
      "execution_count": 7,
      "outputs": []
    },
    {
      "cell_type": "code",
      "source": [
        "# Create a variable db which stores the database in memory\n",
        "db = SQLDatabase.from_uri(\"sqlite:///imported_data.db\")"
      ],
      "metadata": {
        "id": "jhokFJ-wvsbR"
      },
      "execution_count": 8,
      "outputs": []
    },
    {
      "cell_type": "code",
      "source": [
        "# Check that the table was created correctly\n",
        "db.get_usable_table_names()"
      ],
      "metadata": {
        "colab": {
          "base_uri": "https://localhost:8080/"
        },
        "id": "obuYWzPCvr3K",
        "outputId": "07a11c40-f77c-4784-dfdc-9bfaacb5102a"
      },
      "execution_count": 9,
      "outputs": [
        {
          "output_type": "execute_result",
          "data": {
            "text/plain": [
              "['balance_sheet']"
            ]
          },
          "metadata": {},
          "execution_count": 9
        }
      ]
    },
    {
      "cell_type": "code",
      "source": [
        "print_text(db.get_table_info([\"balance_sheet\"]))"
      ],
      "metadata": {
        "colab": {
          "base_uri": "https://localhost:8080/",
          "height": 122
        },
        "id": "yiuIH-rkB73i",
        "outputId": "fe485b0f-5302-4bab-fb98-47fb0dec6567"
      },
      "execution_count": 10,
      "outputs": [
        {
          "output_type": "display_data",
          "data": {
            "text/plain": [
              "<IPython.core.display.Markdown object>"
            ],
            "text/markdown": "\nCREATE TABLE balance_sheet (\n\t\"Account\" INTEGER, \n\t\"Description\" TEXT, \n\t\"Month_Debit\" REAL, \n\t\"Month_Credit\" REAL, \n\t\"Debit\" REAL, \n\t\"Credit\" REAL, \n\t\"Debtor\" REAL, \n\t\"Creditor\" REAL, \n\t\"Net\" REAL\n)\n\n/*\n3 rows from balance_sheet table:\nAccount\tDescription\tMonth_Debit\tMonth_Credit\tDebit\tCredit\tDebtor\tCreditor\tNet\n111\tBank 222\t0.0\t0.0\t63674.542698\t59857.2400894\t3817.3026085999954\t0.0\t3817.3026085999954\n1201\tBank 402\t0.0\t0.0\t9769665.0590058\t9756054.9461778\t13610.11282800138\t0.0\t13610.11282800138\n1202\tBank 404\t0.0\t0.0\t536239.6399828\t527767.8232996\t8471.816683199955\t0.0\t8471.816683199955\n*/"
          },
          "metadata": {}
        }
      ]
    },
    {
      "cell_type": "code",
      "source": [
        "# Let's create a function to test some SQL queries to the database\n",
        "def run_query(query):\n",
        "  conn = sqlite3.connect('imported_data.db')\n",
        "  cursor = conn.cursor()\n",
        "\n",
        "  # Execute the query\n",
        "  cursor.execute(query)\n",
        "\n",
        "  # Fetch all results\n",
        "  results = cursor.fetchall()\n",
        "\n",
        "  # Print the results\n",
        "  for row in results:\n",
        "      print(row)\n",
        "\n",
        "  # Close the connection\n",
        "  conn.close()\n"
      ],
      "metadata": {
        "id": "2YT0q6MMtKl1"
      },
      "execution_count": 11,
      "outputs": []
    },
    {
      "cell_type": "code",
      "source": [
        "# Run some test query\n",
        "run_query(\"SELECT * FROM balance_sheet WHERE Account LIKE '21%' LIMIT 10\")"
      ],
      "metadata": {
        "colab": {
          "base_uri": "https://localhost:8080/"
        },
        "id": "HPBb0B4H80LQ",
        "outputId": "82dbc2d7-33db-48ba-a7cf-e74f39ab6d5d"
      },
      "execution_count": 12,
      "outputs": [
        {
          "output_type": "stream",
          "name": "stdout",
          "text": [
            "(2111110013, 'Client 39', 0.0, 0.0, 354335.3964176, 302232.3631834, 52103.033234199975, 0.0, 52103.033234199975)\n",
            "(2111110181, 'Client 543', 0.0, 0.0, 2952.9076278, 2952.9076278, 0.0, 0.0, 0.0)\n",
            "(2111110183, 'Client 549', 0.0, 0.0, 27131.2601014, 0.0, 27131.2601014, 0.0, 27131.2601014)\n",
            "(2111110190, 'Client 570', 0.0, 0.0, 11512.058272, 11356.1682442, 155.8900278000001, 0.0, 155.8900278000001)\n",
            "(2111110197, 'Client 591', 0.0, 0.0, 145.0661524, 0.0, 145.0661524, 0.0, 145.0661524)\n",
            "(2111110205, 'Client 615', 0.0, 0.0, 23915.95726, 22859.7334888, 1056.2237711999987, 0.0, 1056.2237711999987)\n",
            "(2111110212, 'Client 636', 0.0, 0.0, 12633.3272702, 12633.3272702, 0.0, 0.0, 0.0)\n",
            "(2111110219, 'Client 657', 0.0, 0.0, 1516.4497088, 1516.4497088, 0.0, 0.0, 0.0)\n",
            "(2111110222, 'Client 666', 0.0, 0.0, 1040.6653608, 1034.605156, 6.060204799999838, 0.0, 6.060204799999838)\n",
            "(2111110225, 'Client 675', 0.0, 0.0, 4370.34, 4370.34, 0.0, 0.0, 0.0)\n"
          ]
        }
      ]
    },
    {
      "cell_type": "markdown",
      "source": [
        "# 2. Use a SQL agent to analize the table"
      ],
      "metadata": {
        "id": "Z4TelR5G5NFu"
      }
    },
    {
      "cell_type": "markdown",
      "source": [
        "![image.png](data:image/png;base64,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)"
      ],
      "metadata": {
        "id": "6MNGm2cHlJv-"
      }
    },
    {
      "cell_type": "code",
      "source": [
        "# Setuo the LLM that will be the \"brain\" of the agent\n",
        "llm = init_chat_model(\"openai:gpt-4.1\")"
      ],
      "metadata": {
        "id": "9x9uxGTT5hlo"
      },
      "execution_count": 13,
      "outputs": []
    },
    {
      "cell_type": "code",
      "source": [
        "# Create a toolkit, which includes all that tools that can be used on a SQLite database\n",
        "toolkit = SQLDatabaseToolkit(db=db, llm=llm)\n",
        "tools = toolkit.get_tools()\n",
        "\n",
        " # Print the names and descriptions of the tools\n",
        "for tool in tools:\n",
        "    print(f\"{tool.name}: {tool.description}\\n\")"
      ],
      "metadata": {
        "colab": {
          "base_uri": "https://localhost:8080/"
        },
        "id": "HCJQiaUS5LmI",
        "outputId": "e0a8bdf4-2390-44c8-adff-6e9a2436ce39"
      },
      "execution_count": 14,
      "outputs": [
        {
          "output_type": "stream",
          "name": "stdout",
          "text": [
            "sql_db_query: Input to this tool is a detailed and correct SQL query, output is a result from the database. If the query is not correct, an error message will be returned. If an error is returned, rewrite the query, check the query, and try again. If you encounter an issue with Unknown column 'xxxx' in 'field list', use sql_db_schema to query the correct table fields.\n",
            "\n",
            "sql_db_schema: Input to this tool is a comma-separated list of tables, output is the schema and sample rows for those tables. Be sure that the tables actually exist by calling sql_db_list_tables first! Example Input: table1, table2, table3\n",
            "\n",
            "sql_db_list_tables: Input is an empty string, output is a comma-separated list of tables in the database.\n",
            "\n",
            "sql_db_query_checker: Use this tool to double check if your query is correct before executing it. Always use this tool before executing a query with sql_db_query!\n",
            "\n"
          ]
        }
      ]
    },
    {
      "cell_type": "code",
      "source": [
        "# Create a system prompt. This is the instruction given to the LLM\n",
        "system_prompt = \"\"\"\n",
        "You are an agent designed to interact with a SQL database.\n",
        "Given an input question, create a syntactically correct sqlite query to run,\n",
        "then look at the results of the query and return the answer. Unless the user\n",
        "specifies a specific number of examples they wish to obtain, always limit your\n",
        "query to at most 5 results.\n",
        "\n",
        "You can order the results by a relevant column to return the most interesting\n",
        "examples in the database. Never query for all the columns from a specific table,\n",
        "only ask for the relevant columns given the question.\n",
        "\n",
        "You MUST double check your query before executing it. If you get an error while\n",
        "executing a query, rewrite the query and try again.\n",
        "\n",
        "DO NOT make any DML statements (INSERT, UPDATE, DELETE, DROP etc.) to the\n",
        "database.\n",
        "\n",
        "To start you should ALWAYS look at the tables in the database to see what you\n",
        "can query. Do NOT skip this step.\n",
        "\n",
        "Then you should query the schema of the most relevant tables.\n",
        "\"\"\""
      ],
      "metadata": {
        "id": "UPZ6LdVe5Xo9"
      },
      "execution_count": 15,
      "outputs": []
    },
    {
      "cell_type": "code",
      "source": [
        "# Create an agent that is a composition of an LLM, a set of tools and a system prompt\n",
        "agent = create_react_agent(\n",
        "    llm,\n",
        "    tools,\n",
        "    prompt=system_prompt,\n",
        ")"
      ],
      "metadata": {
        "id": "kkbOlJDLOt0w"
      },
      "execution_count": 16,
      "outputs": []
    },
    {
      "cell_type": "code",
      "source": [
        "# Create a function that prints all the steps taken by the agent to get a response\n",
        "def ask_agent(question):\n",
        "  for step in agent.stream(\n",
        "      {\"messages\": [{\"role\": \"user\", \"content\": question}]},\n",
        "      stream_mode=\"values\",\n",
        "  ):\n",
        "      step[\"messages\"][-1].pretty_print()"
      ],
      "metadata": {
        "id": "pqjuKwIN5bih"
      },
      "execution_count": 17,
      "outputs": []
    },
    {
      "cell_type": "code",
      "source": [
        "ask_agent(\"How many rows are there on the balance sheet?\")"
      ],
      "metadata": {
        "colab": {
          "base_uri": "https://localhost:8080/"
        },
        "id": "RzPa-a8dDDlA",
        "outputId": "94bc3703-17c7-46a4-c9f5-97d76764db19"
      },
      "execution_count": 18,
      "outputs": [
        {
          "output_type": "stream",
          "name": "stdout",
          "text": [
            "================================\u001b[1m Human Message \u001b[0m=================================\n",
            "\n",
            "How many rows are there on the balance sheet?\n",
            "==================================\u001b[1m Ai Message \u001b[0m==================================\n",
            "Tool Calls:\n",
            "  sql_db_list_tables (call_XAr1dcprJ1D21nDJ1EpuP2Gk)\n",
            " Call ID: call_XAr1dcprJ1D21nDJ1EpuP2Gk\n",
            "  Args:\n",
            "=================================\u001b[1m Tool Message \u001b[0m=================================\n",
            "Name: sql_db_list_tables\n",
            "\n",
            "balance_sheet\n",
            "==================================\u001b[1m Ai Message \u001b[0m==================================\n",
            "Tool Calls:\n",
            "  sql_db_schema (call_ipYTDoR9z7bQkHy4XptG0y30)\n",
            " Call ID: call_ipYTDoR9z7bQkHy4XptG0y30\n",
            "  Args:\n",
            "    table_names: balance_sheet\n",
            "=================================\u001b[1m Tool Message \u001b[0m=================================\n",
            "Name: sql_db_schema\n",
            "\n",
            "\n",
            "CREATE TABLE balance_sheet (\n",
            "\t\"Account\" INTEGER, \n",
            "\t\"Description\" TEXT, \n",
            "\t\"Month_Debit\" REAL, \n",
            "\t\"Month_Credit\" REAL, \n",
            "\t\"Debit\" REAL, \n",
            "\t\"Credit\" REAL, \n",
            "\t\"Debtor\" REAL, \n",
            "\t\"Creditor\" REAL, \n",
            "\t\"Net\" REAL\n",
            ")\n",
            "\n",
            "/*\n",
            "3 rows from balance_sheet table:\n",
            "Account\tDescription\tMonth_Debit\tMonth_Credit\tDebit\tCredit\tDebtor\tCreditor\tNet\n",
            "111\tBank 222\t0.0\t0.0\t63674.542698\t59857.2400894\t3817.3026085999954\t0.0\t3817.3026085999954\n",
            "1201\tBank 402\t0.0\t0.0\t9769665.0590058\t9756054.9461778\t13610.11282800138\t0.0\t13610.11282800138\n",
            "1202\tBank 404\t0.0\t0.0\t536239.6399828\t527767.8232996\t8471.816683199955\t0.0\t8471.816683199955\n",
            "*/\n",
            "==================================\u001b[1m Ai Message \u001b[0m==================================\n",
            "Tool Calls:\n",
            "  sql_db_query_checker (call_xUxZTK0IwVinsgclkqs3dbCW)\n",
            " Call ID: call_xUxZTK0IwVinsgclkqs3dbCW\n",
            "  Args:\n",
            "    query: SELECT COUNT(*) FROM balance_sheet;\n",
            "=================================\u001b[1m Tool Message \u001b[0m=================================\n",
            "Name: sql_db_query_checker\n",
            "\n",
            "SELECT COUNT(*) FROM balance_sheet;\n",
            "==================================\u001b[1m Ai Message \u001b[0m==================================\n",
            "Tool Calls:\n",
            "  sql_db_query (call_qq5DnlwYXmAu17VlivScTob7)\n",
            " Call ID: call_qq5DnlwYXmAu17VlivScTob7\n",
            "  Args:\n",
            "    query: SELECT COUNT(*) FROM balance_sheet;\n",
            "=================================\u001b[1m Tool Message \u001b[0m=================================\n",
            "Name: sql_db_query\n",
            "\n",
            "[(703,)]\n",
            "==================================\u001b[1m Ai Message \u001b[0m==================================\n",
            "\n",
            "There are 703 rows on the balance sheet.\n"
          ]
        }
      ]
    },
    {
      "cell_type": "code",
      "source": [
        "ask_agent(\"what is the maximum debit amount for account numbers that start with 21? What is the name of the Client?\")"
      ],
      "metadata": {
        "colab": {
          "base_uri": "https://localhost:8080/"
        },
        "id": "z2LK8FlpPYgs",
        "outputId": "2f5dc736-d4ba-4bd6-9351-87381b677c88"
      },
      "execution_count": 19,
      "outputs": [
        {
          "output_type": "stream",
          "name": "stdout",
          "text": [
            "================================\u001b[1m Human Message \u001b[0m=================================\n",
            "\n",
            "what is the maximum debit amount for account numbers that start with 21? What is the name of the Client?\n",
            "==================================\u001b[1m Ai Message \u001b[0m==================================\n",
            "Tool Calls:\n",
            "  sql_db_list_tables (call_7X6tiFnpXhQ1OQDshJQtXbZs)\n",
            " Call ID: call_7X6tiFnpXhQ1OQDshJQtXbZs\n",
            "  Args:\n",
            "    tool_input:\n",
            "=================================\u001b[1m Tool Message \u001b[0m=================================\n",
            "Name: sql_db_list_tables\n",
            "\n",
            "balance_sheet\n",
            "==================================\u001b[1m Ai Message \u001b[0m==================================\n",
            "Tool Calls:\n",
            "  sql_db_schema (call_JDjeuJ0d3sW7gLYmGOb8CYZf)\n",
            " Call ID: call_JDjeuJ0d3sW7gLYmGOb8CYZf\n",
            "  Args:\n",
            "    table_names: balance_sheet\n",
            "=================================\u001b[1m Tool Message \u001b[0m=================================\n",
            "Name: sql_db_schema\n",
            "\n",
            "\n",
            "CREATE TABLE balance_sheet (\n",
            "\t\"Account\" INTEGER, \n",
            "\t\"Description\" TEXT, \n",
            "\t\"Month_Debit\" REAL, \n",
            "\t\"Month_Credit\" REAL, \n",
            "\t\"Debit\" REAL, \n",
            "\t\"Credit\" REAL, \n",
            "\t\"Debtor\" REAL, \n",
            "\t\"Creditor\" REAL, \n",
            "\t\"Net\" REAL\n",
            ")\n",
            "\n",
            "/*\n",
            "3 rows from balance_sheet table:\n",
            "Account\tDescription\tMonth_Debit\tMonth_Credit\tDebit\tCredit\tDebtor\tCreditor\tNet\n",
            "111\tBank 222\t0.0\t0.0\t63674.542698\t59857.2400894\t3817.3026085999954\t0.0\t3817.3026085999954\n",
            "1201\tBank 402\t0.0\t0.0\t9769665.0590058\t9756054.9461778\t13610.11282800138\t0.0\t13610.11282800138\n",
            "1202\tBank 404\t0.0\t0.0\t536239.6399828\t527767.8232996\t8471.816683199955\t0.0\t8471.816683199955\n",
            "*/\n",
            "==================================\u001b[1m Ai Message \u001b[0m==================================\n",
            "Tool Calls:\n",
            "  sql_db_query_checker (call_qrNgRVHWT2AxtW15BF8aSdeS)\n",
            " Call ID: call_qrNgRVHWT2AxtW15BF8aSdeS\n",
            "  Args:\n",
            "    query: SELECT Account, Description, Debit FROM balance_sheet WHERE Account LIKE '21%' ORDER BY Debit DESC LIMIT 1;\n",
            "=================================\u001b[1m Tool Message \u001b[0m=================================\n",
            "Name: sql_db_query_checker\n",
            "\n",
            "```sql\n",
            "SELECT Account, Description, Debit FROM balance_sheet WHERE Account LIKE '21%' ORDER BY Debit DESC LIMIT 1;\n",
            "```\n",
            "==================================\u001b[1m Ai Message \u001b[0m==================================\n",
            "Tool Calls:\n",
            "  sql_db_query (call_Sxh9ALtWAZIJIyeaSRPFtvxB)\n",
            " Call ID: call_Sxh9ALtWAZIJIyeaSRPFtvxB\n",
            "  Args:\n",
            "    query: SELECT Account, Description, Debit FROM balance_sheet WHERE Account LIKE '21%' ORDER BY Debit DESC LIMIT 1;\n",
            "=================================\u001b[1m Tool Message \u001b[0m=================================\n",
            "Name: sql_db_query\n",
            "\n",
            "[(2111110013, 'Client 39', 354335.3964176)]\n",
            "==================================\u001b[1m Ai Message \u001b[0m==================================\n",
            "\n",
            "The maximum debit amount for account numbers that start with \"21\" is 354,335.40 and the name of the client is \"Client 39\".\n"
          ]
        }
      ]
    },
    {
      "cell_type": "code",
      "source": [
        "ask_agent(\"Are there any positive creditor amounts for account numbers that start with 21?\")"
      ],
      "metadata": {
        "colab": {
          "base_uri": "https://localhost:8080/"
        },
        "id": "agiYhzJkPeyI",
        "outputId": "6861e6c5-f9e6-4d98-9e22-2b95d894b73a"
      },
      "execution_count": 20,
      "outputs": [
        {
          "output_type": "stream",
          "name": "stdout",
          "text": [
            "================================\u001b[1m Human Message \u001b[0m=================================\n",
            "\n",
            "Are there any positive creditor amounts for account numbers that start with 21?\n",
            "==================================\u001b[1m Ai Message \u001b[0m==================================\n",
            "Tool Calls:\n",
            "  sql_db_list_tables (call_oMW7D1PiJFMQqENiR0lk6SNQ)\n",
            " Call ID: call_oMW7D1PiJFMQqENiR0lk6SNQ\n",
            "  Args:\n",
            "=================================\u001b[1m Tool Message \u001b[0m=================================\n",
            "Name: sql_db_list_tables\n",
            "\n",
            "balance_sheet\n",
            "==================================\u001b[1m Ai Message \u001b[0m==================================\n",
            "Tool Calls:\n",
            "  sql_db_schema (call_i2rhpWJXw0dLZVqIFTbUNnJo)\n",
            " Call ID: call_i2rhpWJXw0dLZVqIFTbUNnJo\n",
            "  Args:\n",
            "    table_names: balance_sheet\n",
            "=================================\u001b[1m Tool Message \u001b[0m=================================\n",
            "Name: sql_db_schema\n",
            "\n",
            "\n",
            "CREATE TABLE balance_sheet (\n",
            "\t\"Account\" INTEGER, \n",
            "\t\"Description\" TEXT, \n",
            "\t\"Month_Debit\" REAL, \n",
            "\t\"Month_Credit\" REAL, \n",
            "\t\"Debit\" REAL, \n",
            "\t\"Credit\" REAL, \n",
            "\t\"Debtor\" REAL, \n",
            "\t\"Creditor\" REAL, \n",
            "\t\"Net\" REAL\n",
            ")\n",
            "\n",
            "/*\n",
            "3 rows from balance_sheet table:\n",
            "Account\tDescription\tMonth_Debit\tMonth_Credit\tDebit\tCredit\tDebtor\tCreditor\tNet\n",
            "111\tBank 222\t0.0\t0.0\t63674.542698\t59857.2400894\t3817.3026085999954\t0.0\t3817.3026085999954\n",
            "1201\tBank 402\t0.0\t0.0\t9769665.0590058\t9756054.9461778\t13610.11282800138\t0.0\t13610.11282800138\n",
            "1202\tBank 404\t0.0\t0.0\t536239.6399828\t527767.8232996\t8471.816683199955\t0.0\t8471.816683199955\n",
            "*/\n",
            "==================================\u001b[1m Ai Message \u001b[0m==================================\n",
            "Tool Calls:\n",
            "  sql_db_query_checker (call_DkBzLWjm8koyMlFBWbLRgV39)\n",
            " Call ID: call_DkBzLWjm8koyMlFBWbLRgV39\n",
            "  Args:\n",
            "    query: SELECT Account, Description, Creditor FROM balance_sheet WHERE Account LIKE '21%' AND Creditor > 0 LIMIT 5;\n",
            "=================================\u001b[1m Tool Message \u001b[0m=================================\n",
            "Name: sql_db_query_checker\n",
            "\n",
            "SELECT Account, Description, Creditor FROM balance_sheet WHERE Account LIKE '21%' AND Creditor > 0 LIMIT 5;\n",
            "==================================\u001b[1m Ai Message \u001b[0m==================================\n",
            "Tool Calls:\n",
            "  sql_db_query (call_azoiZ08CPrCtW2ZIvVQJPeBf)\n",
            " Call ID: call_azoiZ08CPrCtW2ZIvVQJPeBf\n",
            "  Args:\n",
            "    query: SELECT Account, Description, Creditor FROM balance_sheet WHERE Account LIKE '21%' AND Creditor > 0 LIMIT 5;\n",
            "=================================\u001b[1m Tool Message \u001b[0m=================================\n",
            "Name: sql_db_query\n",
            "\n",
            "\n",
            "==================================\u001b[1m Ai Message \u001b[0m==================================\n",
            "\n",
            "There are no positive creditor amounts for account numbers that start with 21 in the database.\n"
          ]
        }
      ]
    },
    {
      "cell_type": "code",
      "source": [
        "ask_agent(\"Are there any non-zero debtor amounts for account numbers that start with 22?\")"
      ],
      "metadata": {
        "colab": {
          "base_uri": "https://localhost:8080/"
        },
        "id": "ODdrXtNzPiii",
        "outputId": "20d563ad-ef73-4060-efec-369bf5962877"
      },
      "execution_count": 21,
      "outputs": [
        {
          "output_type": "stream",
          "name": "stdout",
          "text": [
            "================================\u001b[1m Human Message \u001b[0m=================================\n",
            "\n",
            "Are there any non-zero debtor amounts for account numbers that start with 22?\n",
            "==================================\u001b[1m Ai Message \u001b[0m==================================\n",
            "Tool Calls:\n",
            "  sql_db_list_tables (call_Bcp3RdRWgzRE3ThaLq3v9Pv9)\n",
            " Call ID: call_Bcp3RdRWgzRE3ThaLq3v9Pv9\n",
            "  Args:\n",
            "=================================\u001b[1m Tool Message \u001b[0m=================================\n",
            "Name: sql_db_list_tables\n",
            "\n",
            "balance_sheet\n",
            "==================================\u001b[1m Ai Message \u001b[0m==================================\n",
            "Tool Calls:\n",
            "  sql_db_schema (call_orqU8dDxAsb66NYep2S3gjYh)\n",
            " Call ID: call_orqU8dDxAsb66NYep2S3gjYh\n",
            "  Args:\n",
            "    table_names: balance_sheet\n",
            "=================================\u001b[1m Tool Message \u001b[0m=================================\n",
            "Name: sql_db_schema\n",
            "\n",
            "\n",
            "CREATE TABLE balance_sheet (\n",
            "\t\"Account\" INTEGER, \n",
            "\t\"Description\" TEXT, \n",
            "\t\"Month_Debit\" REAL, \n",
            "\t\"Month_Credit\" REAL, \n",
            "\t\"Debit\" REAL, \n",
            "\t\"Credit\" REAL, \n",
            "\t\"Debtor\" REAL, \n",
            "\t\"Creditor\" REAL, \n",
            "\t\"Net\" REAL\n",
            ")\n",
            "\n",
            "/*\n",
            "3 rows from balance_sheet table:\n",
            "Account\tDescription\tMonth_Debit\tMonth_Credit\tDebit\tCredit\tDebtor\tCreditor\tNet\n",
            "111\tBank 222\t0.0\t0.0\t63674.542698\t59857.2400894\t3817.3026085999954\t0.0\t3817.3026085999954\n",
            "1201\tBank 402\t0.0\t0.0\t9769665.0590058\t9756054.9461778\t13610.11282800138\t0.0\t13610.11282800138\n",
            "1202\tBank 404\t0.0\t0.0\t536239.6399828\t527767.8232996\t8471.816683199955\t0.0\t8471.816683199955\n",
            "*/\n",
            "==================================\u001b[1m Ai Message \u001b[0m==================================\n",
            "Tool Calls:\n",
            "  sql_db_query_checker (call_H6Ss65oYy0PJMtnstJKxCrso)\n",
            " Call ID: call_H6Ss65oYy0PJMtnstJKxCrso\n",
            "  Args:\n",
            "    query: SELECT Account, Description, Debtor FROM balance_sheet WHERE Debtor != 0 AND Account LIKE '22%' LIMIT 5;\n",
            "=================================\u001b[1m Tool Message \u001b[0m=================================\n",
            "Name: sql_db_query_checker\n",
            "\n",
            "```sql\n",
            "SELECT Account, Description, Debtor FROM balance_sheet WHERE Debtor != 0 AND Account LIKE '22%' LIMIT 5;\n",
            "```\n",
            "==================================\u001b[1m Ai Message \u001b[0m==================================\n",
            "Tool Calls:\n",
            "  sql_db_query (call_9Z1VoSAw5kFE109ZIw8v1cp0)\n",
            " Call ID: call_9Z1VoSAw5kFE109ZIw8v1cp0\n",
            "  Args:\n",
            "    query: SELECT Account, Description, Debtor FROM balance_sheet WHERE Debtor != 0 AND Account LIKE '22%' LIMIT 5;\n",
            "=================================\u001b[1m Tool Message \u001b[0m=================================\n",
            "Name: sql_db_query\n",
            "\n",
            "[(2211120599, 'Supplier 1797', 340.4057826), (2211120643, 'Supplier 1929', 471.0935164)]\n",
            "==================================\u001b[1m Ai Message \u001b[0m==================================\n",
            "\n",
            "Yes, there are non-zero debtor amounts for account numbers that start with 22. For example:\n",
            "- Account 2211120599 ('Supplier 1797') has a debtor amount of 340.41.\n",
            "- Account 2211120643 ('Supplier 1929') has a debtor amount of 471.09.\n"
          ]
        }
      ]
    },
    {
      "cell_type": "code",
      "source": [
        "ask_agent(\"What is the highest debit amount for an internal expense?\")"
      ],
      "metadata": {
        "colab": {
          "base_uri": "https://localhost:8080/"
        },
        "id": "jnFFKE-HQe5M",
        "outputId": "d5579bba-1798-4755-cac3-a9026b0e567a"
      },
      "execution_count": 23,
      "outputs": [
        {
          "output_type": "stream",
          "name": "stdout",
          "text": [
            "================================\u001b[1m Human Message \u001b[0m=================================\n",
            "\n",
            "What is the highest debit amount for an internal expense?\n",
            "==================================\u001b[1m Ai Message \u001b[0m==================================\n",
            "Tool Calls:\n",
            "  sql_db_list_tables (call_kPfh7WkJ8t5Ya10tB4K0t6f5)\n",
            " Call ID: call_kPfh7WkJ8t5Ya10tB4K0t6f5\n",
            "  Args:\n",
            "    tool_input:\n",
            "=================================\u001b[1m Tool Message \u001b[0m=================================\n",
            "Name: sql_db_list_tables\n",
            "\n",
            "balance_sheet\n",
            "==================================\u001b[1m Ai Message \u001b[0m==================================\n",
            "Tool Calls:\n",
            "  sql_db_schema (call_irVDGq7kZcmLCZFxtC3AQzuA)\n",
            " Call ID: call_irVDGq7kZcmLCZFxtC3AQzuA\n",
            "  Args:\n",
            "    table_names: balance_sheet\n",
            "=================================\u001b[1m Tool Message \u001b[0m=================================\n",
            "Name: sql_db_schema\n",
            "\n",
            "\n",
            "CREATE TABLE balance_sheet (\n",
            "\t\"Account\" INTEGER, \n",
            "\t\"Description\" TEXT, \n",
            "\t\"Month_Debit\" REAL, \n",
            "\t\"Month_Credit\" REAL, \n",
            "\t\"Debit\" REAL, \n",
            "\t\"Credit\" REAL, \n",
            "\t\"Debtor\" REAL, \n",
            "\t\"Creditor\" REAL, \n",
            "\t\"Net\" REAL\n",
            ")\n",
            "\n",
            "/*\n",
            "3 rows from balance_sheet table:\n",
            "Account\tDescription\tMonth_Debit\tMonth_Credit\tDebit\tCredit\tDebtor\tCreditor\tNet\n",
            "111\tBank 222\t0.0\t0.0\t63674.542698\t59857.2400894\t3817.3026085999954\t0.0\t3817.3026085999954\n",
            "1201\tBank 402\t0.0\t0.0\t9769665.0590058\t9756054.9461778\t13610.11282800138\t0.0\t13610.11282800138\n",
            "1202\tBank 404\t0.0\t0.0\t536239.6399828\t527767.8232996\t8471.816683199955\t0.0\t8471.816683199955\n",
            "*/\n",
            "==================================\u001b[1m Ai Message \u001b[0m==================================\n",
            "Tool Calls:\n",
            "  sql_db_query_checker (call_Rcq6Pj1cDic0579NuHSouhst)\n",
            " Call ID: call_Rcq6Pj1cDic0579NuHSouhst\n",
            "  Args:\n",
            "    query: SELECT Description, Debit FROM balance_sheet WHERE Description LIKE '%internal expense%' ORDER BY Debit DESC LIMIT 1;\n",
            "=================================\u001b[1m Tool Message \u001b[0m=================================\n",
            "Name: sql_db_query_checker\n",
            "\n",
            "SELECT Description, Debit FROM balance_sheet WHERE Description LIKE '%internal expense%' ORDER BY Debit DESC LIMIT 1;\n",
            "==================================\u001b[1m Ai Message \u001b[0m==================================\n",
            "Tool Calls:\n",
            "  sql_db_query (call_bpWRQ9i00D6tEvLrRaCMaHOw)\n",
            " Call ID: call_bpWRQ9i00D6tEvLrRaCMaHOw\n",
            "  Args:\n",
            "    query: SELECT Description, Debit FROM balance_sheet WHERE Description LIKE '%internal expense%' ORDER BY Debit DESC LIMIT 1;\n",
            "=================================\u001b[1m Tool Message \u001b[0m=================================\n",
            "Name: sql_db_query\n",
            "\n",
            "[('Internal Expense 1305', 1000342.8121206)]\n",
            "==================================\u001b[1m Ai Message \u001b[0m==================================\n",
            "\n",
            "The highest debit amount for an internal expense is 1,000,342.81, recorded under \"Internal Expense 1305\".\n"
          ]
        }
      ]
    },
    {
      "cell_type": "code",
      "source": [],
      "metadata": {
        "id": "ziLRfkyrpbT-"
      },
      "execution_count": null,
      "outputs": []
    }
  ]
}